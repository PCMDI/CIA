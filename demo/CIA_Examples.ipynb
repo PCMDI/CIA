{
 "cells": [
  {
   "cell_type": "markdown",
   "metadata": {
    "collapsed": true
   },
   "source": [
    "# CIA Tutorial and Examples#"
   ]
  },
  {
   "cell_type": "markdown",
   "metadata": {},
   "source": [
    "This Notebook provides several examples of how the [Common Input Arguments (CIA)](https://github.com/gleckler1/CIA) can be accessed and augmented as needed.  If a user wants to reproduce the results presented below the files in the demo directory of the GitHub repository can be run independently, or this Jupyter notebook can be run offline. Either option requires downloading the demo files and making sure the appropriate environment set up. \n",
    "\n",
    "#Environment setup# \n",
    "\n",
    "The CIA can either be cloned from the GitHub site, or it can be *installed via conda which we highly recommend.*  To do this, one would need to first [install anaconda2](https://conda.io/docs/user-guide/install/index.html) if you have not already done so.  Presuming you have conda, you can install the CIA as follows:\n",
    "\n",
    "> conda install cia -c pcmdi\n",
    "\n",
    "Below, we assume the user has installed the CIA.  To verify what you have done so, at the command prompt type:\n",
    "\n",
    "> which DefaultArgsCIA.json\n",
    "\n",
    "If this file is accessible you should be able to recreate the examples below. \n"
   ]
  },
  {
   "cell_type": "markdown",
   "metadata": {},
   "source": [
    "\n",
    "The CIA are maintained in a [JSON](json.org) file which can be accessed in many ways via python or other methods.  Our examples use vanilla python (2.7 or 3).  We start by opening the CIA defaults and loading it into memory. \n"
   ]
  },
  {
   "cell_type": "code",
   "execution_count": 1,
   "metadata": {
    "scrolled": true
   },
   "outputs": [
    {
     "name": "stdout",
     "output_type": "stream",
     "text": [
      "<type 'dict'>\n"
     ]
    }
   ],
   "source": [
    "import os, sys, json\n",
    "#fjson = open(os.path.join(sys.prefix,\"share\",\"cia\",\"DefArgsCIA.json\"))\n",
    "fjson = open(\"./DefArgsCIA.json\")\n",
    "cia_defaults = json.load(fjson)\n",
    "print type(cia_defaults)"
   ]
  },
  {
   "cell_type": "markdown",
   "metadata": {},
   "source": [
    "\n",
    "This shows that the object loaded into memory is a python dictionary.  (Actually it is a nested python dictionary as we shall see).  After importing the os, sys and json modules, we have loaded the CIA defaults which are stored in the file \"DefArgsCIA.json\".  The CIA default arguments are then listed by printing the keys of this dictionary.   \n"
   ]
  },
  {
   "cell_type": "code",
   "execution_count": 2,
   "metadata": {},
   "outputs": [
    {
     "name": "stdout",
     "output_type": "stream",
     "text": [
      "[u'--modnames', u'--test_data_path', u'--modpath', u'--diags', u'--parameter', u'--num_workers', u'--case_id', u'--reference_data_path', u'--scheduler_addr\"', u'--results_dir']\n"
     ]
    }
   ],
   "source": [
    "print cia_defaults.keys()"
   ]
  },
  {
   "cell_type": "code",
   "execution_count": 3,
   "metadata": {},
   "outputs": [
    {
     "name": "stdout",
     "output_type": "stream",
     "text": [
      "[u'default', u'dest', u'type', u'help', u'aliases']\n"
     ]
    }
   ],
   "source": [
    "print cia_defaults[\"--modpath\"].keys()"
   ]
  },
  {
   "cell_type": "code",
   "execution_count": 4,
   "metadata": {},
   "outputs": [
    {
     "name": "stdout",
     "output_type": "stream",
     "text": [
      "[u'--mp']\n"
     ]
    }
   ],
   "source": [
    "print cia_defaults[\"--modpath\"][\"aliases\"]"
   ]
  },
  {
   "cell_type": "markdown",
   "metadata": {},
   "source": [
    "The key \"--modpath\" has one alias \"mp\" (it can have more).  This means that when using the CIA a user could use an argument \"--mp\" or \"--modpath\" interchangably.  Additional aliases can be added so that a developer collaborating on the CIA project does not need to change their existing arguments to use the CIA.  Instead, they can create an issue on the CIA repository site to request having their alias(es) added (more on this later). "
   ]
  },
  {
   "cell_type": "markdown",
   "metadata": {},
   "source": [
    "\n",
    "The most basic use a developer can make of the CIA is to simply support these [default arguments](https://github.com/gleckler1/CIA/blob/master/Defaults/DefArgsCIA.json) as maintained in the CIA.  As an active contributor of the CIA, a developer can proposed new arguments and aliaes.  However, the potential value of collaboration is more powerful if the full CIA database is used.    \n"
   ]
  },
  {
   "cell_type": "markdown",
   "metadata": {},
   "source": [
    "Input arguments are generally provided to a code via the command line or an input file of some kind.  Here we provide several examples of both, a combination of the two, and how defaults can be superceeded.  "
   ]
  },
  {
   "cell_type": "markdown",
   "metadata": {},
   "source": [
    "\n",
    "Hwere a value to one of the CIA arguments from the command line:"
   ]
  },
  {
   "cell_type": "code",
   "execution_count": 5,
   "metadata": {},
   "outputs": [
    {
     "name": "stdout",
     "output_type": "stream",
     "text": [
      "Explicit path to model data\n"
     ]
    }
   ],
   "source": [
    "print cia_defaults[\"--modpath\"][\"help\"]"
   ]
  },
  {
   "cell_type": "code",
   "execution_count": 6,
   "metadata": {},
   "outputs": [
    {
     "name": "stdout",
     "output_type": "stream",
     "text": [
      "modpath\n"
     ]
    }
   ],
   "source": [
    "print cia_defaults[\"--modpath\"][\"dest\"]"
   ]
  },
  {
   "cell_type": "markdown",
   "metadata": {},
   "source": [
    "Here we see \"modpath\" is the is the desitnation argument in the python code (more later)."
   ]
  },
  {
   "cell_type": "markdown",
   "metadata": {},
   "source": [
    "\n",
    "We now use a simple code included in the demo directory to show how a python code can be fed a CIA argument from the command line:\n",
    "\n",
    "> python demo_CIA_with_argparse.py --modpath 'TESTPATH'\n",
    "\n",
    "OUTPUT:\n",
    "\n",
    "keys in dictionary are  [u'--modnames', u'--test_data_path', u'--modpath', u'--diags', u'--parameter', u'--num_workers', u'--case_id', u'--reference_data_path', u'--scheduler_addr\"', u'--results_dir']\n",
    "\n",
    "after modifications provided by command line arguments: Namespace(modnames=None, modpath='TESTPATH', num_workers=None, other_parameters=None, parameter=None, reference_data_path=None, results_dir=None, scheduler_addr\"=None, test_data_path=None)\n",
    "\n",
    "\n",
    "Note it is presumed that if you have DefaultArgsCIA.json in your env you also have the python codes in the CIA/demo directory (in this case specifically demo_CIA_with_argparse.py). If not, [see the code here](https://github.com/PCMDI/CIA/blob/master/demo/demo_CIA_with_argparse.py)"
   ]
  },
  {
   "cell_type": "markdown",
   "metadata": {},
   "source": [
    "Note it is presumed that if you have DefaultArgsCIA.json in your env you also have the python codes in the CIA/demo directory.  If not, [see here](https://github.com/gleckler1/CIA/blob/master/demo/demo_CIA_with_argparse.py). \n"
   ]
  },
  {
   "cell_type": "markdown",
   "metadata": {},
   "source": [
    "The examples thus far give some hints for how the CIA can be used with the standard modules of python.\n",
    "In the next example, rather than sending arguments to the command line, we set arguments in an *input parameter* file which itself is read from the command line using the \"-p\" argument.  To facilitate this, we make use of the Community Diagnostics Package (CDP) which can easily be installed from conda:\n",
    "\n",
    "> conda install cdp -c conda-forge -c uvcdat\n"
   ]
  },
  {
   "cell_type": "markdown",
   "metadata": {},
   "source": [
    "Once the cdp is successfully installed in the same environment as the CIA, we can run a few more examples. \n",
    "\n",
    "> python using_Param_With_CDP_With_CIAjson.py -p test_paramfile.py\n",
    "\n",
    "OUTPUT:\n",
    "\n",
    "usage: using_Param_With_CDP_With_CIAjson.py [-h] [--results_dir RESULTS_DIR]\n",
    "                                            [--scheduler_addr\" SCHEDULER_ADDR\"]\n",
    "                                            [--reference_data_path REFERENCE_DATA_PATH]\n",
    "                                            [--case_id MODNAMES]\n",
    "                                            [--num_workers NUM_WORKERS]\n",
    "                                            [--parameter PARAMETER]\n",
    "                                            [--diags OTHER_PARAMETERS [OTHER_PARAMETERS ...]]\n",
    "                                            [--modpath MODPATH]\n",
    "                                            [--test_data_path TEST_DATA_PATH]\n",
    "                                            [--modnames MODNAMES]\n",
    "\n",
    "optional arguments:\n",
    "  -h, --help            show this help message and exit\n",
    "  --results_dir RESULTS_DIR, --rd RESULTS_DIR\n",
    "                        The name of the folder where all runs will be stored.\n",
    "  --scheduler_addr\" SCHEDULER_ADDR\", --N/A SCHEDULER_ADDR\"\n",
    "                        Address of scheduler in the form of IP_ADDRESS:PORT.\n",
    "                        Used when running in distributed mode.\n",
    "  --reference_data_path REFERENCE_DATA_PATH, --rdp REFERENCE_DATA_PATH\n",
    "                        The path/filename of reference (obs) data.\n",
    "  --case_id MODNAMES, --cid MODNAMES\n",
    "                        The name of the subdirectory (below results_dir where\n",
    "                        results from a paritcular code execution is stored\n",
    "  --num_workers NUM_WORKERS, -n NUM_WORKERS\n",
    "                        Number of workers, used when running with\n",
    "                        multiprocessing or in distributed mode.\n",
    "  --parameter PARAMETER, -p PARAMETER\n",
    "  --diags OTHER_PARAMETERS [OTHER_PARAMETERS ...], -d OTHER_PARAMETERS [OTHER_PARAMETERS ...]\n",
    "                        Path to other user-defined parameter file.\n",
    "  --modpath MODPATH, --mp MODPATH\n",
    "                        Explicit path to model data\n",
    "  --test_data_path TEST_DATA_PATH, --tp TEST_DATA_PATH\n",
    "                        The path/filename to model output.\n",
    "  --modnames MODNAMES, --mns MODNAMES\n",
    "                        A list of names that can be used to loop through\n",
    "                        modpath\n",
    "None\n",
    "Traceback (most recent call last):\n",
    "  File \"using_Param_With_CDP_With_CIAjson.py\", line 27, in <module>\n",
    "    params = P.get_parameter()\n",
    "  File \"/Users/gleckler1/anaconda2/lib/python2.7/site-packages/cdp/cdp_parser.py\", line 324, in get_parameter\n",
    "    return self.get_parameters(*args, **kwargs)[0]\n",
    "  File \"/Users/gleckler1/anaconda2/lib/python2.7/site-packages/cdp/cdp_parser.py\", line 295, in get_parameters\n",
    "    orig_parameters = self.get_orig_parameters(default_vars=default_vars, cmd_default_vars=cmd_default_vars, *args, **kwargs)\n",
    "  File \"/Users/gleckler1/anaconda2/lib/python2.7/site-packages/cdp/cdp_parser.py\", line 80, in get_orig_parameters\n",
    "    if not self.__args_namespace.parameters:\n",
    "AttributeError: 'Namespace' object has no attribute 'parameters'\n",
    "\n",
    "\n"
   ]
  }
 ],
 "metadata": {
  "kernelspec": {
   "display_name": "Python 2",
   "language": "python",
   "name": "python2"
  },
  "language_info": {
   "codemirror_mode": {
    "name": "ipython",
    "version": 2
   },
   "file_extension": ".py",
   "mimetype": "text/x-python",
   "name": "python",
   "nbconvert_exporter": "python",
   "pygments_lexer": "ipython2",
   "version": "2.7.14"
  }
 },
 "nbformat": 4,
 "nbformat_minor": 1
}
