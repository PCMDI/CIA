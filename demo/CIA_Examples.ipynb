{
 "cells": [
  {
   "cell_type": "markdown",
   "metadata": {
    "collapsed": true
   },
   "source": [
    "# Examples of how to use the CIA#"
   ]
  },
  {
   "cell_type": "markdown",
   "metadata": {},
   "source": [
    "This Notebook shows several methods of how to use the Common Input Arguments (CIA).\n",
    "\n",
    "The files used in the CIA/demo directory are used to demonstrate several way the CIA can be used. We use python's argparse as an example of how the CIA can retrieved via a module included with standard python2.7 and python3.\n",
    "\n",
    "The first demo uses the CDP (i.e., requires it to be installed) and reads a sampe parameter file:\n",
    "\n",
    "    python using_Param_With_CDP_Without_CIAjson.py -p test_paramfile.py\n",
    "\n",
    "The second demo reads in the defaulArg.json, and demonstrates how it can be used:\n",
    "\n"
   ]
  }
 ],
 "metadata": {
  "kernelspec": {
   "display_name": "Python 2",
   "language": "python",
   "name": "python2"
  },
  "language_info": {
   "codemirror_mode": {
    "name": "ipython",
    "version": 2
   },
   "file_extension": ".py",
   "mimetype": "text/x-python",
   "name": "python",
   "nbconvert_exporter": "python",
   "pygments_lexer": "ipython2",
   "version": "2.7.11"
  }
 },
 "nbformat": 4,
 "nbformat_minor": 0
}
