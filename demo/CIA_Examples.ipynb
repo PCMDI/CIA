{
 "cells": [
  {
   "cell_type": "markdown",
   "metadata": {
    "collapsed": true
   },
   "source": [
    "# CIA Examples#"
   ]
  },
  {
   "cell_type": "markdown",
   "metadata": {},
   "source": [
    "This Notebook provides several examples of how the [Common Input Arguments (CIA)](https://github.com/gleckler1/CIA) can be accessed as default common input arguments and augmented as needed. The files available in the CIA/demo directory are used below to demonstrate several ways the CIA can be used.\n",
    "\n",
    "A primary motivation for the CIA is to encourage developers of different packages to use, at least at some level, a common set of arguments which among other things can facilitate the packages ultimately being used collectively.  The CIA are maintained in a [JSON](json.org) file which can be accessed in many ways via python or other methods.  \n",
    "\n",
    "The most basic use a developer can make of the CIA is to simply support the [default arguments or dictionary keys](https://github.com/gleckler1/CIA/blob/master/Defaults/DefArgsCIA.json) as maintained in the CIA. However, the potential value of collaboration is much more powerful if the full CIA database is used.    \n",
    "\n",
    "Input arguments are generally either provided to a code via the command line or an input file of some kind.  Here we provide several examples of both, a combination of the two, and how defaults can be superceeded.  \n",
    "\n",
    "We use python's argparse as an example of how the CIA can retrieved via a module included with standard python2.7 and python3.  The first demo can be run as follows:\n",
    "\n",
    "> python demo_CIA_with_argparse.py --mp 'TESTPATH'\n"
   ]
  },
  {
   "cell_type": "code",
   "execution_count": null,
   "metadata": {
    "collapsed": true
   },
   "outputs": [],
   "source": [
    "python demo_CIA_with_argparse.py --mp 'TESTPATH'"
   ]
  },
  {
   "cell_type": "code",
   "execution_count": null,
   "metadata": {
    "collapsed": true
   },
   "outputs": [],
   "source": [
    "Namespace(modnames=None, modpath='TESTPATH', num_workers=None, other_parameters=[], parameters=None, rd=None, scheduler_addr=None)"
   ]
  },
  {
   "cell_type": "markdown",
   "metadata": {},
   "source": [
    "In this simple example a value is set to \"mp\" which is an alias to \"modpath\""
   ]
  },
  {
   "cell_type": "markdown",
   "metadata": {},
   "source": [
    "The second demo uses the CDP (i.e., requires it to be installed) and reads a sampe parameter file:\n",
    "\n",
    "    python using_Param_With_CDP_Without_CIAjson.py -p test_paramfile.py\n",
    "\n",
    "The second demo reads in the defaulArg.json, and demonstrates how it can be used:\n"
   ]
  }
 ],
 "metadata": {
  "kernelspec": {
   "display_name": "Python 2",
   "language": "python",
   "name": "python2"
  },
  "language_info": {
   "codemirror_mode": {
    "name": "ipython",
    "version": 2
   },
   "file_extension": ".py",
   "mimetype": "text/x-python",
   "name": "python",
   "nbconvert_exporter": "python",
   "pygments_lexer": "ipython2",
   "version": "2.7.11"
  }
 },
 "nbformat": 4,
 "nbformat_minor": 0
}
