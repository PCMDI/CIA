{
 "cells": [
  {
   "cell_type": "markdown",
   "metadata": {
    "collapsed": true
   },
   "source": [
    "# CIA Tutorial and Examples#"
   ]
  },
  {
   "cell_type": "markdown",
   "metadata": {},
   "source": [
    "This Notebook provides several examples of how the [Common Input Arguments (CIA)](https://github.com/gleckler1/CIA) can be accessed and augmented as needed.  If a user wants to reproduce the results presented below the files in the demo directory of the GitHub repository can be run independently, or this Jupyter notebook can be run offline. Either option requires downloading the demo files and making sure the appropriate environment set up. \n",
    "\n",
    "#Environment setup# \n",
    "\n",
    "The CIA can either be cloned from the GitHub site, or it can be *installed via conda which we highly recommend.*  To do this, one would need to first [install anaconda2](https://conda.io/docs/user-guide/install/index.html) if you have not already done so.  Presuming you have conda, you can install the CIA as follows:\n",
    "\n",
    "> conda install cia -c pcmdi\n",
    "\n",
    "Below, we assume the user has installed the CIA.  To verify what you have done so, at the command prompt type:\n",
    "\n",
    "> which DefaultArgsCIA.json\n",
    "\n",
    "If this file is accessible you should be able to recreate the examples below. \n"
   ]
  },
  {
   "cell_type": "markdown",
   "metadata": {},
   "source": [
    "\n",
    "The CIA are maintained in a [JSON](json.org) file which can be accessed in many ways via python or other methods.  Our examples use vanilla python (2.7 or 3).  We start by opening the CIA defaults and loading it into memory. \n"
   ]
  },
  {
   "cell_type": "code",
   "execution_count": 3,
   "metadata": {
    "scrolled": true
   },
   "outputs": [
    {
     "name": "stdout",
     "output_type": "stream",
     "text": [
      "<type 'dict'>\n"
     ]
    }
   ],
   "source": [
    "import os, sys, json\n",
    "#fjson = open(os.path.join(sys.prefix,\"share\",\"cia\",\"DefArgsCIA.json\"))\n",
    "fjson = open(\"./DefArgsCIA.json\")\n",
    "cia_defaults = json.load(fjson)\n",
    "print type(cia_defaults)"
   ]
  },
  {
   "cell_type": "markdown",
   "metadata": {},
   "source": [
    "\n",
    "This shows that the object loaded into memory is a python dictionary.  (Actually it is a nested python dictionary as we shall see).  After importing the os, sys and json modules, we have loaded the CIA defaults which are stored in the file \"DefArgsCIA.json\".  The CIA default arguments are then listed by printing the keys of this dictionary.   \n"
   ]
  },
  {
   "cell_type": "code",
   "execution_count": 4,
   "metadata": {},
   "outputs": [
    {
     "name": "stdout",
     "output_type": "stream",
     "text": [
      "[u'--modnames', u'--test_data_path', u'--modpath', u'--diags', u'--parameter', u'--num_workers', u'--case_id', u'--reference_data_path', u'--scheduler_addr\"', u'--results_dir']\n"
     ]
    }
   ],
   "source": [
    "print cia_defaults.keys()"
   ]
  },
  {
   "cell_type": "code",
   "execution_count": 5,
   "metadata": {},
   "outputs": [
    {
     "name": "stdout",
     "output_type": "stream",
     "text": [
      "[u'default', u'dest', u'type', u'help', u'aliases']\n"
     ]
    }
   ],
   "source": [
    "print cia_defaults[\"--modpath\"].keys()"
   ]
  },
  {
   "cell_type": "code",
   "execution_count": 6,
   "metadata": {},
   "outputs": [
    {
     "name": "stdout",
     "output_type": "stream",
     "text": [
      "[u'--mp']\n"
     ]
    }
   ],
   "source": [
    "print cia_defaults[\"--modpath\"][\"aliases\"]"
   ]
  },
  {
   "cell_type": "markdown",
   "metadata": {},
   "source": [
    "\n",
    "The most basic use a developer can make of the CIA is to simply support these [default arguments](https://github.com/gleckler1/CIA/blob/master/Defaults/DefArgsCIA.json) as maintained in the CIA.  As an active contributor of the CIA, a developer can proposed new arguments and aliaes.  However, the potential value of collaboration is more powerful if the full CIA database is used.  Here we give an example of how the attributes of each default can be accessed:  \n"
   ]
  },
  {
   "cell_type": "code",
   "execution_count": 15,
   "metadata": {},
   "outputs": [
    {
     "name": "stdout",
     "output_type": "stream",
     "text": [
      "modpath\n"
     ]
    }
   ],
   "source": [
    "print cia_defaults[\"--modpath\"][\"dest\"]"
   ]
  },
  {
   "cell_type": "markdown",
   "metadata": {},
   "source": [
    "Here we see \"modpath\" is not only the name of the default argument, but is also the name of the \"desitnation\" of the default argument in the python code (more on that later)."
   ]
  },
  {
   "cell_type": "code",
   "execution_count": 16,
   "metadata": {},
   "outputs": [
    {
     "name": "stdout",
     "output_type": "stream",
     "text": [
      "Explicit path to model data\n"
     ]
    }
   ],
   "source": [
    "print cia_defaults[\"--modpath\"][\"help\"]"
   ]
  },
  {
   "cell_type": "markdown",
   "metadata": {},
   "source": [
    "The key \"--modpath\" has one alias \"mp\" (it can have more), meaning a CIA user can use an argument \"--mp\" or \"--modpath\" interchangably.  *Additional aliases can be added so that a developer collaborating on the CIA project does not need to change their existing arguments to use the CIA.*  Instead, they can create an issue on the CIA repository site to request having their alias(es) added (more on this later). "
   ]
  },
  {
   "cell_type": "markdown",
   "metadata": {},
   "source": [
    "Input arguments are generally provided to a code via the command line or an input file of some kind.  Here we provide examples of both, a combination of the two, and how defaults can be superceeded.  "
   ]
  },
  {
   "cell_type": "markdown",
   "metadata": {},
   "source": [
    "\n",
    "We now use a simple code included in the demo directory to show how a python code can be fed a CIA argument from the command line (that's what the \"!\" does):\n"
   ]
  },
  {
   "cell_type": "markdown",
   "metadata": {},
   "source": [
    "We now use a simple code included in the demo directory to show how a python code can be fed a CIA argument from the command line (that's what the \"!\" does):"
   ]
  },
  {
   "cell_type": "code",
   "execution_count": 12,
   "metadata": {},
   "outputs": [
    {
     "name": "stdout",
     "output_type": "stream",
     "text": [
      "keys in dictionary are  [u'--modnames', u'--test_data_path', u'--modpath', u'--diags', u'--parameter', u'--num_workers', u'--case_id', u'--reference_data_path', u'--scheduler_addr\"', u'--results_dir']\r\n",
      "---------------------------------------------------\r\n",
      "after modifications provided by command line arguments: Namespace(modnames=None, modpath='TESTPATH', num_workers=None, other_parameters=None, parameter=None, reference_data_path=None, results_dir=None, scheduler_addr\"=None, test_data_path=None)\r\n"
     ]
    }
   ],
   "source": [
    "! python demo_CIA_with_argparse.py --modpath 'TESTPATH'"
   ]
  },
  {
   "cell_type": "markdown",
   "metadata": {},
   "source": [
    "You can check out [\"demo_CIA_with_argparse.py\"](https://github.com/PCMDI/CIA/blob/master/demo/demo_CIA_with_argparse.py) in the demo directory."
   ]
  },
  {
   "cell_type": "markdown",
   "metadata": {},
   "source": [
    "The examples thus far give some hints for how the CIA can be used with the standard modules of python.\n",
    "In the next example, rather than sending arguments to the command line, we set arguments in an *input parameter* file which itself is read from the command line using the \"-p\" argument.  To facilitate this, we make use of the Community Diagnostics Package (CDP) which can easily be installed from conda:\n",
    "\n",
    "> conda install cdp -c conda-forge -c uvcdat\n",
    "\n",
    "After you have successfully installed the CDP in your environment we are ready to show some examples using a parameter file:\n"
   ]
  },
  {
   "cell_type": "code",
   "execution_count": 2,
   "metadata": {},
   "outputs": [
    {
     "name": "stdout",
     "output_type": "stream",
     "text": [
      "mkdir: crap: File exists\r\n"
     ]
    }
   ],
   "source": []
  }
 ],
 "metadata": {
  "kernelspec": {
   "display_name": "Python 2",
   "language": "python",
   "name": "python2"
  },
  "language_info": {
   "codemirror_mode": {
    "name": "ipython",
    "version": 2
   },
   "file_extension": ".py",
   "mimetype": "text/x-python",
   "name": "python",
   "nbconvert_exporter": "python",
   "pygments_lexer": "ipython2",
   "version": "2.7.14"
  }
 },
 "nbformat": 4,
 "nbformat_minor": 1
}
