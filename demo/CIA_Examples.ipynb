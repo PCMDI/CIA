{
 "cells": [
  {
   "cell_type": "markdown",
   "metadata": {
    "collapsed": true
   },
   "source": [
    "# CIA Tutorial and Examples#"
   ]
  },
  {
   "cell_type": "markdown",
   "metadata": {},
   "source": [
    "This Notebook provides several examples of how the [Common Input Arguments (CIA)](https://github.com/gleckler1/CIA) can be accessed and augmented as needed.  If a user wants to reproduce the results presented below, the files in the demo directory of the GitHub repository (https://github.com/PCMDI/CIA) can be run independently, or (preferred) this Jupyter notebook can be run offline. Either option requires having the appropriate environment set up. \n",
    "\n",
    "#Environment setup# \n",
    "\n",
    "The CIA can either be cloned from the GitHub site, or it can be *installed via conda which we highly recommend.*  For the conda installation, one would need to first [install anaconda2](https://conda.io/docs/user-guide/install/index.html) if you have not already done so.  Presuming you have conda, you can install the CIA as follows:\n",
    "\n",
    "> conda install cia -c pcmdi\n",
    "\n",
    "To verify you have done so, at the command prompt type:\n",
    "\n",
    "> python -c \"import os; print(os.path.exists(os.path.join(sys.prefix,'share','cia','DefArgsCIA.json')))\"\n",
    "\n",
    "If the DefArgsCIA exists, you should be able to recreate the examples below. \n",
    "\n",
    "If you want to reproduce this Jupyter notebook yourself, you may also need to install Jupyter notebook:\n",
    "\n",
    "> conda install nb_conda jupyter\n"
   ]
  },
  {
   "cell_type": "code",
   "execution_count": 1,
   "metadata": {},
   "outputs": [],
   "source": [
    "from __future__ import print_function  # for print statement compatability between python 2 and 3\n",
    "import os, sys\n",
    "cia_installed = os.path.exists(os.path.join(sys.prefix,'share','cia','DefArgsCIA.json'))\n",
    "if not cia_installed:\n",
    "    raise RuntimeError(\"Please install cia package as explined above\")"
   ]
  },
  {
   "cell_type": "markdown",
   "metadata": {},
   "source": [
    "\n",
    "The CIA are maintained in a [JSON](json.org) file which can be accessed in many ways via python or other methods.  Our examples use vanilla python (2.7 or 3).  We start by opening the CIA defaults and loading it into memory. \n"
   ]
  },
  {
   "cell_type": "code",
   "execution_count": 2,
   "metadata": {
    "scrolled": true
   },
   "outputs": [
    {
     "name": "stdout",
     "output_type": "stream",
     "text": [
      "<class 'dict'>\n"
     ]
    }
   ],
   "source": [
    "import json\n",
    "fjson = open(os.path.join(sys.prefix,\"share\",\"cia\",\"DefArgsCIA.json\"))\n",
    "cia_defaults = json.load(fjson)\n",
    "print(type(cia_defaults))"
   ]
  },
  {
   "cell_type": "markdown",
   "metadata": {},
   "source": [
    "\n",
    "This shows that the object loaded into memory is a python dictionary.  (Actually it is a nested python dictionary as we shall see).  After importing the os, sys and json modules, we have loaded the CIA defaults from the file \"DefArgsCIA.json\".  The CIA default arguments are then listed by printing the keys of this dictionary.   \n"
   ]
  },
  {
   "cell_type": "code",
   "execution_count": 3,
   "metadata": {},
   "outputs": [
    {
     "name": "stdout",
     "output_type": "stream",
     "text": [
      "dict_keys(['--case_id', '--diags', '--modnames', '--modpath', '--num_workers', '--parameters', '--reference_data_path', '--results_dir', '--scheduler_addr\"', '--test_data_path'])\n"
     ]
    }
   ],
   "source": [
    "print(cia_defaults.keys())"
   ]
  },
  {
   "cell_type": "code",
   "execution_count": 4,
   "metadata": {},
   "outputs": [
    {
     "name": "stdout",
     "output_type": "stream",
     "text": [
      "dict_keys(['aliases', 'default', 'dest', 'help', 'type'])\n"
     ]
    }
   ],
   "source": [
    "print(cia_defaults[\"--modpath\"].keys())"
   ]
  },
  {
   "cell_type": "markdown",
   "metadata": {},
   "source": [
    "Here we see that each default argument has a set of attributes associated with it.  "
   ]
  },
  {
   "cell_type": "code",
   "execution_count": 5,
   "metadata": {},
   "outputs": [
    {
     "name": "stdout",
     "output_type": "stream",
     "text": [
      "['--mp']\n"
     ]
    }
   ],
   "source": [
    "print(cia_defaults[\"--modpath\"][\"aliases\"])"
   ]
  },
  {
   "cell_type": "markdown",
   "metadata": {},
   "source": [
    "The key \"--modpath\" has one alias \"--mp\" (it can have more), meaning a CIA user can use an argument \"--mp\" or \"--modpath\" interchangably.  *Additional aliases can be added so that a developer collaborating on the CIA project does not need to change their existing arguments to use the CIA.*  Instead, they can create an issue on the CIA repository site to request having their alias(es) added (more on this later). "
   ]
  },
  {
   "cell_type": "markdown",
   "metadata": {},
   "source": [
    "\n",
    "The most basic use of the CIA is to simply support these [default arguments](https://github.com/gleckler1/CIA/blob/master/Defaults/DefArgsCIA.json) in an independent analysis capability.  As an active contributor to the CIA, a developer can propose new arguments and aliases.  \n",
    "\n",
    "Now we give an examples of how the attributes of each default can be accessed:  \n"
   ]
  },
  {
   "cell_type": "code",
   "execution_count": 6,
   "metadata": {},
   "outputs": [
    {
     "name": "stdout",
     "output_type": "stream",
     "text": [
      "modpath\n"
     ]
    }
   ],
   "source": [
    "print(cia_defaults[\"--modpath\"][\"dest\"])"
   ]
  },
  {
   "cell_type": "markdown",
   "metadata": {},
   "source": [
    "Here we see \"modpath\" is not only the name of the default argument, but is also the name of the \"desitnation\" of the default argument in the python code (more on that later)."
   ]
  },
  {
   "cell_type": "code",
   "execution_count": 7,
   "metadata": {},
   "outputs": [
    {
     "name": "stdout",
     "output_type": "stream",
     "text": [
      "Explicit path to model data\n"
     ]
    }
   ],
   "source": [
    "print(cia_defaults[\"--modpath\"][\"help\"])"
   ]
  },
  {
   "cell_type": "markdown",
   "metadata": {},
   "source": [
    "Input arguments are generally provided to a code via the command line or an input file of some kind.  Here we provide examples of both, a combination of the two, and how defaults can be superceeded.  "
   ]
  },
  {
   "cell_type": "markdown",
   "metadata": {},
   "source": [
    "We now use a simple code included in the demo directory to show how a python code can be fed a CIA argument from the command line (that's what the \"!\" does):"
   ]
  },
  {
   "cell_type": "code",
   "execution_count": 8,
   "metadata": {},
   "outputs": [
    {
     "name": "stdout",
     "output_type": "stream",
     "text": [
      "keys in dictionary are  dict_keys(['--case_id', '--diags', '--modnames', '--modpath', '--num_workers', '--parameters', '--reference_data_path', '--results_dir', '--scheduler_addr\"', '--test_data_path'])\r\n",
      "---------------------------------------------------\r\n",
      "after modifications provided by command line arguments: Namespace(modnames='None', modpath='TESTPATH', num_workers=None, other_parameters=None, parameters=None, reference_data_path=None, results_dir=None, test_data_path=None, **{'scheduler_addr\"': None})\r\n"
     ]
    }
   ],
   "source": [
    "! python demo_CIA_with_argparse.py --modpath 'TESTPATH'"
   ]
  },
  {
   "cell_type": "markdown",
   "metadata": {},
   "source": [
    "Check out [\"demo_CIA_with_argparse.py\"](https://github.com/PCMDI/CIA/blob/master/demo/demo_CIA_with_argparse.py) in the demo directory and you will see what produced the above output."
   ]
  },
  {
   "cell_type": "markdown",
   "metadata": {},
   "source": [
    "The examples thus far give some hints for how the CIA can be used with the standard modules of python.\n",
    "In the next example, rather than sending arguments to the command line, we set arguments in an *input parameter* file which itself is read from the command line using the \"-p\" argument.  To facilitate this, we make use of the Community Diagnostics Package (CDP) which can easily be installed from conda:\n",
    "\n",
    "> conda install cdp -c conda-forge -c uvcdat\n",
    "\n",
    "After you have successfully installed the CDP in your environment we are ready to show some examples using an input parameter file:\n"
   ]
  },
  {
   "cell_type": "code",
   "execution_count": 9,
   "metadata": {},
   "outputs": [
    {
     "name": "stdout",
     "output_type": "stream",
     "text": [
      "some/mod/path\r\n"
     ]
    }
   ],
   "source": [
    "! python CIA-CDP_test1_use-default.py -p test_paramfile.py"
   ]
  },
  {
   "cell_type": "markdown",
   "metadata": {},
   "source": [
    "Check out the (CIA-CDP_test1_use-default.py)[https://github.com/PCMDI/CIA/blob/master/demo/CIA-CDP_test1_use-default.py] (driver), test_paramfile.py (input parameter file) and other files used below in the GH repository demo directory and you'll see how we get the result below.  In this first example above, *modpath* was set in the parameter file and read in by the driver code. "
   ]
  },
  {
   "cell_type": "code",
   "execution_count": 12,
   "metadata": {},
   "outputs": [
    {
     "name": "stdout",
     "output_type": "stream",
     "text": [
      "some/mod/path\r\n"
     ]
    }
   ],
   "source": [
    "! python CIA-CDP_test2_use-alias.py -p test_paramfile.py"
   ]
  },
  {
   "cell_type": "markdown",
   "metadata": {},
   "source": [
    "Same result for (CIA-CDP_test2_use-alias.py)[https://github.com/PCMDI/CIA/blob/master/demo/CIA-CDP_test1_use-alias.py] (driver) but using an alias instead"
   ]
  },
  {
   "cell_type": "code",
   "execution_count": 13,
   "metadata": {},
   "outputs": [
    {
     "name": "stdout",
     "output_type": "stream",
     "text": [
      "newarg default\r\n"
     ]
    }
   ],
   "source": [
    "! python CIA-CDP_test3_add-new-arg.py -p test_paramfile.py"
   ]
  },
  {
   "cell_type": "markdown",
   "metadata": {
    "collapsed": true
   },
   "source": [
    "In test3 above a new arguement was added directly into the python code in addition to the CIA defaults. "
   ]
  },
  {
   "cell_type": "code",
   "execution_count": 14,
   "metadata": {},
   "outputs": [
    {
     "name": "stdout",
     "output_type": "stream",
     "text": [
      "some/mod/path\r\n"
     ]
    }
   ],
   "source": [
    "! python CIA-CDP_test4_override-CIAarg.py -p test_paramfile.py"
   ]
  },
  {
   "cell_type": "markdown",
   "metadata": {},
   "source": [
    "In test4 the CIA default of *modpath* is overwritten by the user!"
   ]
  }
 ],
 "metadata": {
  "kernelspec": {
   "display_name": "Python [conda env:cdpcia]",
   "language": "python",
   "name": "conda-env-cdpcia-py"
  },
  "language_info": {
   "codemirror_mode": {
    "name": "ipython",
    "version": 3
   },
   "file_extension": ".py",
   "mimetype": "text/x-python",
   "name": "python",
   "nbconvert_exporter": "python",
   "pygments_lexer": "ipython3",
   "version": "3.6.4"
  }
 },
 "nbformat": 4,
 "nbformat_minor": 1
}
