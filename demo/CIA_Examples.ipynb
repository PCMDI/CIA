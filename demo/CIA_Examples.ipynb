{
 "cells": [
  {
   "cell_type": "markdown",
   "metadata": {
    "collapsed": true
   },
   "source": [
    "# CIA Tutorial and Examples#"
   ]
  },
  {
   "cell_type": "markdown",
   "metadata": {},
   "source": [
    "This Notebook provides several examples of how the [Common Input Arguments (CIA)](https://github.com/gleckler1/CIA) can be accessed and augmented as needed.  If a user wants to reproduce the results presented below, the files in the demo directory of the GitHub repository can be run independently, or this Jupyter notebook can be run offline. Either option requires downloading the demo files, CIAdefaults (see below), and making sure you have the appropriate environment set up. \n",
    "\n",
    "#Environment setup# \n",
    "\n",
    "The CIA can either be cloned from the GitHub site, or it can be *installed via conda which we highly recommend.*  For the conda installation, one would need to first [install anaconda2](https://conda.io/docs/user-guide/install/index.html) if you have not already done so.  Presuming you have conda, you can install the CIA as follows:\n",
    "\n",
    "> conda install cia -c pcmdi\n",
    "\n",
    "To verify you have done so, at the command prompt type:\n",
    "\n",
    "> python -c \"import os; print(os.path.exists(os.path.join(sys.prefix,\"share\",\"cia\",\"DefArgsCIA.json\")))\"\n",
    "\n",
    "If this file is accessible you should be able to recreate the examples below. \n"
   ]
  },
  {
   "cell_type": "markdown",
   "metadata": {},
   "source": [
    "\n",
    "The CIA are maintained in a [JSON](json.org) file which can be accessed in many ways via python or other methods.  Our examples use vanilla python (2.7 or 3).  We start by opening the CIA defaults and loading it into memory. \n"
   ]
  },
  {
   "cell_type": "code",
   "execution_count": 1,
   "metadata": {},
   "outputs": [],
   "source": [
    "from __future__ import print_function  # so it works the same for python 2 or 3\n",
    "import os, sys\n",
    "cia_installed = os.path.exists(os.path.join(sys.prefix,\"share\",\"cia\",\"DefArgsCIA.json\"))\n",
    "if not cia_installed:\n",
    "    raise RuntimeError(\"Please install cia package as explined above\")"
   ]
  },
  {
   "cell_type": "code",
   "execution_count": 2,
   "metadata": {
    "scrolled": true
   },
   "outputs": [
    {
     "name": "stdout",
     "output_type": "stream",
     "text": [
      "<type 'dict'>\n"
     ]
    }
   ],
   "source": [
    "import json\n",
    "fjson = open(os.path.join(sys.prefix,\"share\",\"cia\",\"DefArgsCIA.json\"))\n",
    "cia_defaults = json.load(fjson)\n",
    "print(type(cia_defaults))"
   ]
  },
  {
   "cell_type": "markdown",
   "metadata": {},
   "source": [
    "\n",
    "This shows that the object loaded into memory is a python dictionary.  (Actually it is a nested python dictionary as we shall see).  After importing the os, sys and json modules, we have loaded the CIA defaults from the file \"DefArgsCIA.json\".  The CIA default arguments are then listed by printing the keys of this dictionary.   \n"
   ]
  },
  {
   "cell_type": "code",
   "execution_count": 3,
   "metadata": {},
   "outputs": [
    {
     "name": "stdout",
     "output_type": "stream",
     "text": [
      "[u'--modnames', u'--test_data_path', u'--modpath', u'--diags', u'--parameter', u'--num_workers', u'--case_id', u'--reference_data_path', u'--scheduler_addr\"', u'--results_dir']\n"
     ]
    }
   ],
   "source": [
    "print(cia_defaults.keys())"
   ]
  },
  {
   "cell_type": "code",
   "execution_count": 4,
   "metadata": {},
   "outputs": [
    {
     "name": "stdout",
     "output_type": "stream",
     "text": [
      "[u'default', u'dest', u'type', u'help', u'aliases']\n"
     ]
    }
   ],
   "source": [
    "print(cia_defaults[\"--modpath\"].keys())"
   ]
  },
  {
   "cell_type": "markdown",
   "metadata": {},
   "source": [
    "Here we see that each default argument has a set of attributes associated with it.  "
   ]
  },
  {
   "cell_type": "code",
   "execution_count": 5,
   "metadata": {},
   "outputs": [
    {
     "name": "stdout",
     "output_type": "stream",
     "text": [
      "[u'--mp']\n"
     ]
    }
   ],
   "source": [
    "print(cia_defaults[\"--modpath\"][\"aliases\"])"
   ]
  },
  {
   "cell_type": "markdown",
   "metadata": {},
   "source": [
    "The key \"--modpath\" has one alias \"--mp\" (it can have more), meaning a CIA user can use an argument \"--mp\" or \"--modpath\" interchangably.  *Additional aliases can be added so that a developer collaborating on the CIA project does not need to change their existing arguments to use the CIA.*  Instead, they can create an issue on the CIA repository site to request having their alias(es) added (more on this later). "
   ]
  },
  {
   "cell_type": "markdown",
   "metadata": {},
   "source": [
    "\n",
    "The most basic use of the CIA is to simply support these [default arguments](https://github.com/gleckler1/CIA/blob/master/Defaults/DefArgsCIA.json) in an independent analysis capability.  As an active contributor to the CIA, a developer can propose new arguments and aliases.  \n",
    "\n",
    "Now we give an examples of how the attributes of each default can be accessed:  \n"
   ]
  },
  {
   "cell_type": "code",
   "execution_count": 6,
   "metadata": {},
   "outputs": [
    {
     "name": "stdout",
     "output_type": "stream",
     "text": [
      "modpath\n"
     ]
    }
   ],
   "source": [
    "print(cia_defaults[\"--modpath\"][\"dest\"])"
   ]
  },
  {
   "cell_type": "markdown",
   "metadata": {},
   "source": [
    "Here we see \"modpath\" is not only the name of the default argument, but is also the name of the \"desitnation\" of the default argument in the python code (more on that later)."
   ]
  },
  {
   "cell_type": "code",
   "execution_count": 7,
   "metadata": {},
   "outputs": [
    {
     "name": "stdout",
     "output_type": "stream",
     "text": [
      "Explicit path to model data\n"
     ]
    }
   ],
   "source": [
    "print(cia_defaults[\"--modpath\"][\"help\"])"
   ]
  },
  {
   "cell_type": "markdown",
   "metadata": {},
   "source": [
    "Input arguments are generally provided to a code via the command line or an input file of some kind.  Here we provide examples of both, a combination of the two, and how defaults can be superceeded.  "
   ]
  },
  {
   "cell_type": "markdown",
   "metadata": {},
   "source": [
    "\n",
    "We now use a simple code included in the demo directory to show how a python code can be fed a CIA argument from the command line (that's what the \"!\" does):\n"
   ]
  },
  {
   "cell_type": "markdown",
   "metadata": {},
   "source": [
    "We now use a simple code included in the demo directory to show how a python code can be fed a CIA argument from the command line (that's what the \"!\" does):"
   ]
  },
  {
   "cell_type": "code",
   "execution_count": 8,
   "metadata": {},
   "outputs": [
    {
     "name": "stdout",
     "output_type": "stream",
     "text": [
      "keys in dictionary are  [u'--modnames', u'--test_data_path', u'--modpath', u'--diags', u'--parameter', u'--num_workers', u'--case_id', u'--reference_data_path', u'--scheduler_addr\"', u'--results_dir']\r\n",
      "after modifications provided by command line arguments: Namespace(modnames=None, modpath='TESTPATH', num_workers=None, other_parameters=None, parameter=None, reference_data_path=None, results_dir=None, scheduler_addr\"=None, test_data_path=None)\r\n"
     ]
    }
   ],
   "source": [
    "! python demo_CIA_with_argparse.py --modpath 'TESTPATH'"
   ]
  },
  {
   "cell_type": "markdown",
   "metadata": {},
   "source": [
    "You can check out [\"demo_CIA_with_argparse.py\"](https://github.com/PCMDI/CIA/blob/master/demo/demo_CIA_with_argparse.py) in the demo directory."
   ]
  },
  {
   "cell_type": "markdown",
   "metadata": {},
   "source": [
    "The examples thus far give some hints for how the CIA can be used with the standard modules of python.\n",
    "In the next example, rather than sending arguments to the command line, we set arguments in an *input parameter* file which itself is read from the command line using the \"-p\" argument.  To facilitate this, we make use of the Community Diagnostics Package (CDP) which can easily be installed from conda:\n",
    "\n",
    "> conda install cdp -c conda-forge -c uvcdat\n",
    "\n",
    "After you have successfully installed the CDP in your environment we are ready to show some examples using a parameter file:\n"
   ]
  },
  {
   "cell_type": "code",
   "execution_count": 9,
   "metadata": {},
   "outputs": [
    {
     "name": "stdout",
     "output_type": "stream",
     "text": [
      "Traceback (most recent call last):\r\n",
      "  File \"test2.py\", line 16, in <module>\r\n",
      "    params = P.get_parameter()\r\n",
      "  File \"/export/gleckler1/miniconda2/envs/CRAP/lib/python2.7/site-packages/cdp/cdp_parser.py\", line 274, in get_parameter\r\n",
      "    return self.get_parameters(*args, **kwargs)[0]\r\n",
      "  File \"/export/gleckler1/miniconda2/envs/CRAP/lib/python2.7/site-packages/cdp/cdp_parser.py\", line 256, in get_parameters\r\n",
      "    orig_parameters = self.get_orig_parameters(*args, **kwargs)\r\n",
      "  File \"/export/gleckler1/miniconda2/envs/CRAP/lib/python2.7/site-packages/cdp/cdp_parser.py\", line 76, in get_orig_parameters\r\n",
      "    if not self.__args_namespace.parameters:\r\n",
      "AttributeError: 'Namespace' object has no attribute 'parameters'\r\n"
     ]
    }
   ],
   "source": [
    "! python test2.py -p test_paramfile.py"
   ]
  },
  {
   "cell_type": "code",
   "execution_count": null,
   "metadata": {
    "collapsed": true
   },
   "outputs": [],
   "source": []
  }
 ],
 "metadata": {
  "kernelspec": {
   "display_name": "Python [default]",
   "language": "python",
   "name": "python2"
  },
  "language_info": {
   "codemirror_mode": {
    "name": "ipython",
    "version": 2
   },
   "file_extension": ".py",
   "mimetype": "text/x-python",
   "name": "python",
   "nbconvert_exporter": "python",
   "pygments_lexer": "ipython2",
   "version": "2.7.14"
  }
 },
 "nbformat": 4,
 "nbformat_minor": 1
}
