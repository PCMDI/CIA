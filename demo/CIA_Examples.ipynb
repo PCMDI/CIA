{
 "cells": [
  {
   "cell_type": "markdown",
   "metadata": {
    "collapsed": true
   },
   "source": [
    "# CIA Turorial and Examples#"
   ]
  },
  {
   "cell_type": "markdown",
   "metadata": {},
   "source": [
    "This Notebook provides several examples of how the [Common Input Arguments (CIA)](https://github.com/gleckler1/CIA) can be accessed and augmented as needed.  If a user wants to reproduce the results presented below the files in the demo directory of the GitHub repository can be run independently, or this Jupyter notebook can be run offline. Either option requires downloading the demo files and making sure the appropriate environment set up. \n",
    "\n",
    "#Environment setup# \n",
    "\n",
    "The CIA can either be cloned from the GitHub site, or it can be *installed via conda which we highly recommend.*  To do this, one would need to first [install anaconda2](https://conda.io/docs/user-guide/install/index.html) if you have not already done so.  Presuming you have conda, you can install the CIA as follows:\n",
    "\n",
    "> conda install cia -c pcmdi\n",
    "\n",
    "Below, we assume the user has installed the CIA.  To verify what you have done so, at the command prompt type:\n",
    "\n",
    "> which DefaultArgsCIA.json\n",
    "\n",
    "If this file is accessible you should be able to recreate the examples below. \n"
   ]
  },
  {
   "cell_type": "markdown",
   "metadata": {},
   "source": [
    "\n",
    "The CIA are maintained in a [JSON](json.org) file which can be accessed in many ways via python or other methods.  Our examples use vanilla python (2.7 or 3).  We start by opening the CIA defaults and loading it into memory. \n"
   ]
  },
  {
   "cell_type": "code",
   "execution_count": 18,
   "metadata": {
    "scrolled": true
   },
   "outputs": [
    {
     "name": "stdout",
     "output_type": "stream",
     "text": [
      "<type 'dict'>\n"
     ]
    }
   ],
   "source": [
    "import os, sys, json\n",
    "fjson = open(os.path.join(sys.prefix,\"share\",\"cia\",\"DefArgsCIA.json\"))\n",
    "cia_defaults = json.load(fjson)\n",
    "print type(cia_defaults)"
   ]
  },
  {
   "cell_type": "markdown",
   "metadata": {},
   "source": [
    "\n",
    "This shows that the object loaded into memory is a python dictionary.  (Actually it is a nested python dictionary as we shall see).  After importing the os, sys and json modules, we have loaded the CIA defaults which are stored in the file \"DefArgsCIA.json\".  The CIA default arguments are then listed by printing the keys of this dictionary.   \n"
   ]
  },
  {
   "cell_type": "code",
   "execution_count": 19,
   "metadata": {},
   "outputs": [
    {
     "name": "stdout",
     "output_type": "stream",
     "text": [
      "[u'--rd', u'--diags', u'--mp', u'--num_workers', u'--mns', u'--scheduler_addr', u'--parameters', u'--cid']\n"
     ]
    }
   ],
   "source": [
    "print cia_defaults.keys()"
   ]
  },
  {
   "cell_type": "code",
   "execution_count": 9,
   "metadata": {},
   "outputs": [
    {
     "name": "stdout",
     "output_type": "stream",
     "text": [
      "[u'default', u'dest', u'type', u'help', u'aliases']\n"
     ]
    }
   ],
   "source": [
    "print cia_defaults[\"--mp\"].keys()"
   ]
  },
  {
   "cell_type": "code",
   "execution_count": 16,
   "metadata": {},
   "outputs": [
    {
     "name": "stdout",
     "output_type": "stream",
     "text": [
      "modpath\n"
     ]
    }
   ],
   "source": [
    "print cia_defaults[\"--mp\"][\"aliases\"]"
   ]
  },
  {
   "cell_type": "markdown",
   "metadata": {},
   "source": [
    "The key \"--mp\" has one alias \"modpath\" (it can have more).  This means that when using the CIA a user could use an argument \"--mp\" or \"--modpath\" interchangably.  Additional aliases can be added so that in principle any developer collaborating on the CIA project does not need to change their existing arguments to use the CIA.  Instead, they can create an issue on the CIA repository site to request having their alias(es) added (more on this later). "
   ]
  },
  {
   "cell_type": "markdown",
   "metadata": {},
   "source": [
    "\n",
    "The most basic use a developer can make of the CIA is to simply support these [default arguments](https://github.com/gleckler1/CIA/blob/master/Defaults/DefArgsCIA.json) as maintained in the CIA.  As an active contributor of the CIA, a developer can proposed new arguments and aliaes.   \n",
    "\n",
    "However, the potential value of collaboration is more powerful if the full CIA database is used.    \n",
    "\n",
    "Input arguments are generally provided to a code via the command line or an input file of some kind.  Here we provide several examples of both, a combination of the two, and how defaults can be superceeded.  \n"
   ]
  },
  {
   "cell_type": "markdown",
   "metadata": {},
   "source": [
    "\n",
    "In the next example, set a value to one of the CIA arguments from the command line:"
   ]
  },
  {
   "cell_type": "code",
   "execution_count": 23,
   "metadata": {},
   "outputs": [
    {
     "name": "stdout",
     "output_type": "stream",
     "text": [
      "Explicit path to model data\n"
     ]
    }
   ],
   "source": [
    "print cia_defaults[\"--mp\"][\"help\"]"
   ]
  },
  {
   "cell_type": "code",
   "execution_count": 24,
   "metadata": {},
   "outputs": [
    {
     "name": "stdout",
     "output_type": "stream",
     "text": [
      "modpath\n"
     ]
    }
   ],
   "source": [
    "print cia_defaults[\"--mp\"][\"dest\"]"
   ]
  },
  {
   "cell_type": "markdown",
   "metadata": {},
   "source": [
    "Here we see \"modpath\" is the is the desitnation argument in the python code (more later)."
   ]
  },
  {
   "cell_type": "code",
   "execution_count": null,
   "metadata": {
    "collapsed": true
   },
   "outputs": [],
   "source": [
    "python demo_CIA_with_argparse.py --mp 'TESTPATH'"
   ]
  },
  {
   "cell_type": "code",
   "execution_count": null,
   "metadata": {
    "collapsed": true
   },
   "outputs": [],
   "source": [
    "Namespace(modnames=None, modpath='TESTPATH', num_workers=None, other_parameters=[], parameters=None, rd=None, scheduler_addr=None)"
   ]
  },
  {
   "cell_type": "markdown",
   "metadata": {},
   "source": [
    "The above example shows how a value of 'mp' can be sent from the command line.  Note it is presumed that if you have DefaultArgsCIA.json in your env you also have the python codes in the CIA/demo directory.  If not, [see here](https://github.com/gleckler1/CIA/blob/master/demo/demo_CIA_with_argparse.py). \n"
   ]
  },
  {
   "cell_type": "markdown",
   "metadata": {},
   "source": [
    "The examples above provide some hints for how the CIA can be used with the standard built in modules of python.\n",
    "In the next example, we set arguments in an \"input parameter\" file which itself is read from the command line using the \"-p\" argument.  To do this, we make use of the Community Diagnostics Package (CDP) which can easily be installed from conda:\n",
    "\n",
    "> conda install cdp -c conda-forge -c uvcdat\n",
    "\n",
    "Once the cdp is successfully installed in the same environment as the CIA, we can run a few more examples.  \n"
   ]
  },
  {
   "cell_type": "markdown",
   "metadata": {},
   "source": [
    "> python using_Param_With_CDP_Without_CIAjson.py -p test_paramfile.py\n",
    "\n",
    "....\n"
   ]
  }
 ],
 "metadata": {
  "kernelspec": {
   "display_name": "Python 2",
   "language": "python",
   "name": "python2"
  },
  "language_info": {
   "codemirror_mode": {
    "name": "ipython",
    "version": 2
   },
   "file_extension": ".py",
   "mimetype": "text/x-python",
   "name": "python",
   "nbconvert_exporter": "python",
   "pygments_lexer": "ipython2",
   "version": "2.7.14"
  }
 },
 "nbformat": 4,
 "nbformat_minor": 1
}
